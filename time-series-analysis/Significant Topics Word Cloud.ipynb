{
 "cells": [
  {
   "cell_type": "code",
   "execution_count": 1,
   "metadata": {
    "collapsed": true
   },
   "outputs": [],
   "source": [
    "import csv\n",
    "\n",
    "significant_topics = list()\n",
    "with open('./significant_topics.csv', 'r') as file:\n",
    "    reader = csv.reader(file)\n",
    "    for row in reader:\n",
    "        significant_topics.append(row[0])"
   ]
  },
  {
   "cell_type": "code",
   "execution_count": 2,
   "metadata": {},
   "outputs": [],
   "source": [
    "from wordcloud import WordCloud\n",
    "\n",
    "def generate_wordcloud(in_list, n_display=10):\n",
    "    \"\"\"\n",
    "    Generate and plot a wordcloud given words and weights\n",
    "    INPUTS\n",
    "    in_list: list of tuples (word, weight)\n",
    "    n_display: how many words from the given list to display in the wordcloud\n",
    "    \"\"\"\n",
    "\n",
    "    n_display = min(n_display, len(in_list))\n",
    "    # pick only the n_display with the highest scores\n",
    "    in_list = sorted(in_list, key=lambda tup: tup[1], reverse=True)\n",
    "    in_list = in_list[:n_display]\n",
    "\n",
    "\n",
    "    # normalize weights and convert list of tuples to dictionary\n",
    "    weights = [el[1] for el in in_list]\n",
    "    weights = (weights - np.min(weights))/np.ptp(weights)\n",
    "    word2weight = {}\n",
    "    for ii in range(len(in_list)):\n",
    "        word = str(in_list[ii][0])\n",
    "        weight = weights[ii]\n",
    "        word2weight[word] = weight\n",
    "\n",
    "    wc = WordCloud(width=800, height=400).generate_from_frequencies(word2weight)\n",
    "    plt.figure()\n",
    "    plt.imshow(wc, interpolation='bilinear')\n",
    "    plt.axis(\"off\")\n",
    "    plt.show(block=False)\n",
    "  \n",
    "    # generate_wordcloud(neighbors_and_weights, n_display=50) # n_display is how many words you want in the image"
   ]
  },
  {
   "cell_type": "code",
   "execution_count": null,
   "metadata": {
    "collapsed": true
   },
   "outputs": [],
   "source": []
  }
 ],
 "metadata": {
  "kernelspec": {
   "display_name": "Python 3",
   "language": "python",
   "name": "python3"
  },
  "language_info": {
   "codemirror_mode": {
    "name": "ipython",
    "version": 3
   },
   "file_extension": ".py",
   "mimetype": "text/x-python",
   "name": "python",
   "nbconvert_exporter": "python",
   "pygments_lexer": "ipython3",
   "version": "3.6.9"
  }
 },
 "nbformat": 4,
 "nbformat_minor": 2
}
