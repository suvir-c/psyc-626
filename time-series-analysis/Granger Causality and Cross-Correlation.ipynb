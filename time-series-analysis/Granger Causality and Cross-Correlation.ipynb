{
 "cells": [
  {
   "cell_type": "code",
   "execution_count": 1,
   "metadata": {},
   "outputs": [],
   "source": [
    "from pandas import read_csv\n",
    "from statsmodels.tsa.stattools import adfuller\n",
    "from statsmodels.tsa.stattools import grangercausalitytests\n",
    "from numpy import log\n",
    "import numpy as np\n",
    "import pandas as pd\n",
    "import datetime as datetime\n",
    "\n",
    "def zscore(df, col):\n",
    "    col_mean = df[col].rolling(window=10).mean()\n",
    "    col_std = df[col].rolling(window=10).std()\n",
    "    return (df[col] - col_mean)/col_std\n",
    "\n",
    "df = pd.read_csv('./data/11-8/to_trump_2M_dates_res/daily_plutchik_onehot.csv', parse_dates=['month/day'])\n",
    "approval_rating_df = pd.read_csv('./data/approval_polllist.csv', parse_dates=[\"enddate\"])\n",
    "\n",
    "df[\"Anticipation Z-Score\"] = zscore(df, \"Anticipation\")\n",
    "df[\"Trust Z-Score\"] = zscore(df, \"Trust\")\n",
    "df[\"Surprise Z-Score\"] = zscore(df, \"Surprise\")\n",
    "df[\"Sadness Z-Score\"] = zscore(df, \"Sadness\")\n",
    "df[\"Joy Z-Score\"] = zscore(df, \"Joy\")\n",
    "df[\"Fear Z-Score\"] = zscore(df, \"Fear\")\n",
    "df[\"Disgust Z-Score\"] = zscore(df, \"Disgust\")\n",
    "df[\"Anger Z-Score\"] = zscore(df, \"Anger\")\n",
    "\n",
    "start_date = datetime.datetime(2017, 5, 15, 0, 0)\n",
    "end_date = datetime.datetime(2017, 11, 17, 0, 0)\n",
    "\n",
    "truncated_df = df[(df[\"month/day\"] > start_date) & (df[\"month/day\"] < end_date)]"
   ]
  },
  {
   "cell_type": "code",
   "execution_count": 2,
   "metadata": {
    "collapsed": true
   },
   "outputs": [],
   "source": [
    "result = adfuller(truncated_df[\"Anticipation Z-Score\"])"
   ]
  },
  {
   "cell_type": "code",
   "execution_count": 3,
   "metadata": {},
   "outputs": [
    {
     "name": "stdout",
     "output_type": "stream",
     "text": [
      "ADF Statistic: -11.027296\n",
      "p-value: 0.000000\n",
      "\t1%: -3.467\n",
      "\t5%: -2.877\n",
      "\t10%: -2.575\n"
     ]
    }
   ],
   "source": [
    "print('ADF Statistic: %f' % result[0])\n",
    "print('p-value: %f' % result[1])\n",
    "for key, value in result[4].items():\n",
    "\tprint('\\t%s: %.3f' % (key, value))"
   ]
  },
  {
   "cell_type": "code",
   "execution_count": 4,
   "metadata": {},
   "outputs": [
    {
     "name": "stdout",
     "output_type": "stream",
     "text": [
      "ADF Statistic: -11.493683\n",
      "p-value: 0.000000\n",
      "\t1%: -3.467\n",
      "\t5%: -2.877\n",
      "\t10%: -2.575\n"
     ]
    }
   ],
   "source": [
    "result = adfuller(truncated_df[\"Trust Z-Score\"])\n",
    "print('ADF Statistic: %f' % result[0])\n",
    "print('p-value: %f' % result[1])\n",
    "for key, value in result[4].items():\n",
    "\tprint('\\t%s: %.3f' % (key, value))"
   ]
  },
  {
   "cell_type": "code",
   "execution_count": 5,
   "metadata": {},
   "outputs": [
    {
     "name": "stdout",
     "output_type": "stream",
     "text": [
      "ADF Statistic: -9.866922\n",
      "p-value: 0.000000\n",
      "\t1%: -3.467\n",
      "\t5%: -2.877\n",
      "\t10%: -2.575\n"
     ]
    }
   ],
   "source": [
    "result = adfuller(truncated_df[\"Surprise Z-Score\"])\n",
    "print('ADF Statistic: %f' % result[0])\n",
    "print('p-value: %f' % result[1])\n",
    "for key, value in result[4].items():\n",
    "\tprint('\\t%s: %.3f' % (key, value))"
   ]
  },
  {
   "cell_type": "code",
   "execution_count": 6,
   "metadata": {},
   "outputs": [
    {
     "name": "stdout",
     "output_type": "stream",
     "text": [
      "ADF Statistic: -11.540513\n",
      "p-value: 0.000000\n",
      "\t1%: -3.467\n",
      "\t5%: -2.877\n",
      "\t10%: -2.575\n"
     ]
    }
   ],
   "source": [
    "result = adfuller(truncated_df[\"Sadness Z-Score\"])\n",
    "print('ADF Statistic: %f' % result[0])\n",
    "print('p-value: %f' % result[1])\n",
    "for key, value in result[4].items():\n",
    "\tprint('\\t%s: %.3f' % (key, value))"
   ]
  },
  {
   "cell_type": "code",
   "execution_count": 7,
   "metadata": {},
   "outputs": [
    {
     "name": "stdout",
     "output_type": "stream",
     "text": [
      "ADF Statistic: -9.548665\n",
      "p-value: 0.000000\n",
      "\t1%: -3.467\n",
      "\t5%: -2.877\n",
      "\t10%: -2.575\n"
     ]
    }
   ],
   "source": [
    "result = adfuller(truncated_df[\"Joy Z-Score\"])\n",
    "print('ADF Statistic: %f' % result[0])\n",
    "print('p-value: %f' % result[1])\n",
    "for key, value in result[4].items():\n",
    "\tprint('\\t%s: %.3f' % (key, value))"
   ]
  },
  {
   "cell_type": "code",
   "execution_count": 8,
   "metadata": {},
   "outputs": [
    {
     "name": "stdout",
     "output_type": "stream",
     "text": [
      "ADF Statistic: -8.870502\n",
      "p-value: 0.000000\n",
      "\t1%: -3.467\n",
      "\t5%: -2.878\n",
      "\t10%: -2.575\n"
     ]
    }
   ],
   "source": [
    "result = adfuller(truncated_df[\"Fear Z-Score\"])\n",
    "print('ADF Statistic: %f' % result[0])\n",
    "print('p-value: %f' % result[1])\n",
    "for key, value in result[4].items():\n",
    "\tprint('\\t%s: %.3f' % (key, value))"
   ]
  },
  {
   "cell_type": "code",
   "execution_count": 9,
   "metadata": {},
   "outputs": [
    {
     "name": "stdout",
     "output_type": "stream",
     "text": [
      "ADF Statistic: -9.839633\n",
      "p-value: 0.000000\n",
      "\t1%: -3.467\n",
      "\t5%: -2.877\n",
      "\t10%: -2.575\n"
     ]
    }
   ],
   "source": [
    "result = adfuller(truncated_df[\"Disgust Z-Score\"])\n",
    "print('ADF Statistic: %f' % result[0])\n",
    "print('p-value: %f' % result[1])\n",
    "for key, value in result[4].items():\n",
    "\tprint('\\t%s: %.3f' % (key, value))"
   ]
  },
  {
   "cell_type": "code",
   "execution_count": 10,
   "metadata": {},
   "outputs": [
    {
     "name": "stdout",
     "output_type": "stream",
     "text": [
      "ADF Statistic: -6.274008\n",
      "p-value: 0.000000\n",
      "\t1%: -3.467\n",
      "\t5%: -2.878\n",
      "\t10%: -2.575\n"
     ]
    }
   ],
   "source": [
    "result = adfuller(truncated_df[\"Anger Z-Score\"])\n",
    "print('ADF Statistic: %f' % result[0])\n",
    "print('p-value: %f' % result[1])\n",
    "for key, value in result[4].items():\n",
    "\tprint('\\t%s: %.3f' % (key, value))"
   ]
  },
  {
   "cell_type": "code",
   "execution_count": 11,
   "metadata": {
    "collapsed": true
   },
   "outputs": [],
   "source": [
    "# p-value is <= 0.05 and ADF Statistic is < values at 1%, 5%, and 10%"
   ]
  },
  {
   "cell_type": "code",
   "execution_count": 12,
   "metadata": {},
   "outputs": [],
   "source": [
    "truncated_approvals = approval_rating_df.loc[approval_rating_df['pollster'] == 'Gallup']\n",
    "truncated_approvals = truncated_approvals.loc[truncated_approvals['subgroup'] == 'All polls']\n",
    "truncated_approvals = truncated_approvals[(truncated_approvals['enddate'] > start_date) & (truncated_approvals['enddate'] <= end_date)]\n",
    "truncated_approvals = truncated_approvals['adjusted_approve']\n",
    "\n",
    "approvals_array = truncated_approvals.values"
   ]
  },
  {
   "cell_type": "code",
   "execution_count": 15,
   "metadata": {},
   "outputs": [],
   "source": [
    "x = np.asarray([approvals_array, truncated_df[\"Anticipation Z-Score\"]]).T"
   ]
  },
  {
   "cell_type": "code",
   "execution_count": 16,
   "metadata": {},
   "outputs": [
    {
     "name": "stdout",
     "output_type": "stream",
     "text": [
      "\n",
      "Granger Causality\n",
      "number of lags (no zero) 1\n",
      "ssr based F test:         F=2.4484  , p=0.1194  , df_denom=180, df_num=1\n",
      "ssr based chi2 test:   chi2=2.4892  , p=0.1146  , df=1\n",
      "likelihood ratio test: chi2=2.4724  , p=0.1159  , df=1\n",
      "parameter F test:         F=2.4484  , p=0.1194  , df_denom=180, df_num=1\n",
      "\n",
      "Granger Causality\n",
      "number of lags (no zero) 2\n",
      "ssr based F test:         F=1.2479  , p=0.2896  , df_denom=177, df_num=2\n",
      "ssr based chi2 test:   chi2=2.5663  , p=0.2772  , df=2\n",
      "likelihood ratio test: chi2=2.5484  , p=0.2797  , df=2\n",
      "parameter F test:         F=1.2479  , p=0.2896  , df_denom=177, df_num=2\n",
      "\n",
      "Granger Causality\n",
      "number of lags (no zero) 3\n",
      "ssr based F test:         F=1.1339  , p=0.3369  , df_denom=174, df_num=3\n",
      "ssr based chi2 test:   chi2=3.5385  , p=0.3158  , df=3\n",
      "likelihood ratio test: chi2=3.5044  , p=0.3202  , df=3\n",
      "parameter F test:         F=1.1339  , p=0.3369  , df_denom=174, df_num=3\n",
      "\n",
      "Granger Causality\n",
      "number of lags (no zero) 4\n",
      "ssr based F test:         F=0.8377  , p=0.5030  , df_denom=171, df_num=4\n",
      "ssr based chi2 test:   chi2=3.5273  , p=0.4737  , df=4\n",
      "likelihood ratio test: chi2=3.4932  , p=0.4789  , df=4\n",
      "parameter F test:         F=0.8377  , p=0.5030  , df_denom=171, df_num=4\n",
      "\n",
      "Granger Causality\n",
      "number of lags (no zero) 5\n",
      "ssr based F test:         F=0.9922  , p=0.4242  , df_denom=168, df_num=5\n",
      "ssr based chi2 test:   chi2=5.2856  , p=0.3820  , df=5\n",
      "likelihood ratio test: chi2=5.2091  , p=0.3909  , df=5\n",
      "parameter F test:         F=0.9922  , p=0.4242  , df_denom=168, df_num=5\n",
      "\n",
      "Granger Causality\n",
      "number of lags (no zero) 6\n",
      "ssr based F test:         F=0.9200  , p=0.4821  , df_denom=165, df_num=6\n",
      "ssr based chi2 test:   chi2=5.9546  , p=0.4283  , df=6\n",
      "likelihood ratio test: chi2=5.8572  , p=0.4394  , df=6\n",
      "parameter F test:         F=0.9200  , p=0.4821  , df_denom=165, df_num=6\n",
      "\n",
      "Granger Causality\n",
      "number of lags (no zero) 7\n",
      "ssr based F test:         F=1.4137  , p=0.2031  , df_denom=162, df_num=7\n",
      "ssr based chi2 test:   chi2=10.8122 , p=0.1470  , df=7\n",
      "likelihood ratio test: chi2=10.4948 , p=0.1622  , df=7\n",
      "parameter F test:         F=1.4137  , p=0.2031  , df_denom=162, df_num=7\n"
     ]
    },
    {
     "data": {
      "text/plain": [
       "{1: ({'lrtest': (2.4724119436507408, 0.11586001175149435, 1),\n",
       "   'params_ftest': (2.4483827315542994, 0.11940239177003237, 180.0, 1.0),\n",
       "   'ssr_chi2test': (2.4891891104137573, 0.11463077171933894, 1),\n",
       "   'ssr_ftest': (2.4483827315545152, 0.11940239177001544, 180.0, 1)},\n",
       "  [<statsmodels.regression.linear_model.RegressionResultsWrapper at 0x1135f6cf8>,\n",
       "   <statsmodels.regression.linear_model.RegressionResultsWrapper at 0x1135f6828>,\n",
       "   array([[ 0.,  1.,  0.]])]),\n",
       " 2: ({'lrtest': (2.5484214543347434, 0.27965160255210747, 2),\n",
       "   'params_ftest': (1.2479214435659167, 0.28961438783346055, 177.0, 2.0),\n",
       "   'ssr_chi2test': (2.5663469234917899, 0.27715635827374768, 2),\n",
       "   'ssr_ftest': (1.2479214435660626, 0.28961438783341797, 177.0, 2)},\n",
       "  [<statsmodels.regression.linear_model.RegressionResultsWrapper at 0x1135f6f98>,\n",
       "   <statsmodels.regression.linear_model.RegressionResultsWrapper at 0x1135f6e80>,\n",
       "   array([[ 0.,  0.,  1.,  0.,  0.],\n",
       "          [ 0.,  0.,  0.,  1.,  0.]])]),\n",
       " 3: ({'lrtest': (3.5043861936401299, 0.32019369161467426, 3),\n",
       "   'params_ftest': (1.1338938624927699, 0.3368655840817732, 174.0, 3.0),\n",
       "   'ssr_chi2test': (3.5385308467448442, 0.31579907583456845, 3),\n",
       "   'ssr_ftest': (1.133893862492823, 0.33686558408175499, 174.0, 3)},\n",
       "  [<statsmodels.regression.linear_model.RegressionResultsWrapper at 0x1135f64e0>,\n",
       "   <statsmodels.regression.linear_model.RegressionResultsWrapper at 0x1135f6fd0>,\n",
       "   array([[ 0.,  0.,  0.,  1.,  0.,  0.,  0.],\n",
       "          [ 0.,  0.,  0.,  0.,  1.,  0.,  0.],\n",
       "          [ 0.,  0.,  0.,  0.,  0.,  1.,  0.]])]),\n",
       " 4: ({'lrtest': (3.4931938054284046, 0.47891399574706928, 4),\n",
       "   'params_ftest': (0.83773605455910027, 0.50295722505067619, 171.0, 4.0),\n",
       "   'ssr_chi2test': (3.5273097034067598, 0.47373801249282665, 4),\n",
       "   'ssr_ftest': (0.83773605455910538, 0.5029572250506702, 171.0, 4)},\n",
       "  [<statsmodels.regression.linear_model.RegressionResultsWrapper at 0x1135ec2b0>,\n",
       "   <statsmodels.regression.linear_model.RegressionResultsWrapper at 0x1135ecd68>,\n",
       "   array([[ 0.,  0.,  0.,  0.,  1.,  0.,  0.,  0.,  0.],\n",
       "          [ 0.,  0.,  0.,  0.,  0.,  1.,  0.,  0.,  0.],\n",
       "          [ 0.,  0.,  0.,  0.,  0.,  0.,  1.,  0.,  0.],\n",
       "          [ 0.,  0.,  0.,  0.,  0.,  0.,  0.,  1.,  0.]])]),\n",
       " 5: ({'lrtest': (5.2091119593139297, 0.39089673469946079, 5),\n",
       "   'params_ftest': (0.99216637555709108, 0.42418649783433182, 168.0, 5.0),\n",
       "   'ssr_chi2test': (5.2856482507359042, 0.38202282538181415, 5),\n",
       "   'ssr_ftest': (0.9921663755571305, 0.42418649783430773, 168.0, 5)},\n",
       "  [<statsmodels.regression.linear_model.RegressionResultsWrapper at 0x113623048>,\n",
       "   <statsmodels.regression.linear_model.RegressionResultsWrapper at 0x113623400>,\n",
       "   array([[ 0.,  0.,  0.,  0.,  0.,  1.,  0.,  0.,  0.,  0.,  0.],\n",
       "          [ 0.,  0.,  0.,  0.,  0.,  0.,  1.,  0.,  0.,  0.,  0.],\n",
       "          [ 0.,  0.,  0.,  0.,  0.,  0.,  0.,  1.,  0.,  0.,  0.],\n",
       "          [ 0.,  0.,  0.,  0.,  0.,  0.,  0.,  0.,  1.,  0.,  0.],\n",
       "          [ 0.,  0.,  0.,  0.,  0.,  0.,  0.,  0.,  0.,  1.,  0.]])]),\n",
       " 6: ({'lrtest': (5.857155893997799, 0.43938049024360093, 6),\n",
       "   'params_ftest': (0.91995032741313565, 0.48209102584851882, 165.0, 6.0),\n",
       "   'ssr_chi2test': (5.9545875738011045, 0.42829642437164972, 6),\n",
       "   'ssr_ftest': (0.91995032741309202, 0.48209102584855346, 165.0, 6)},\n",
       "  [<statsmodels.regression.linear_model.RegressionResultsWrapper at 0x10f361240>,\n",
       "   <statsmodels.regression.linear_model.RegressionResultsWrapper at 0x10f3612b0>,\n",
       "   array([[ 0.,  0.,  0.,  0.,  0.,  0.,  1.,  0.,  0.,  0.,  0.,  0.,  0.],\n",
       "          [ 0.,  0.,  0.,  0.,  0.,  0.,  0.,  1.,  0.,  0.,  0.,  0.,  0.],\n",
       "          [ 0.,  0.,  0.,  0.,  0.,  0.,  0.,  0.,  1.,  0.,  0.,  0.,  0.],\n",
       "          [ 0.,  0.,  0.,  0.,  0.,  0.,  0.,  0.,  0.,  1.,  0.,  0.,  0.],\n",
       "          [ 0.,  0.,  0.,  0.,  0.,  0.,  0.,  0.,  0.,  0.,  1.,  0.,  0.],\n",
       "          [ 0.,  0.,  0.,  0.,  0.,  0.,  0.,  0.,  0.,  0.,  0.,  1.,  0.]])]),\n",
       " 7: ({'lrtest': (10.494798872928015, 0.16222399422296538, 7),\n",
       "   'params_ftest': (1.4136981141503677, 0.20305439692701638, 162.0, 7.0),\n",
       "   'ssr_chi2test': (10.812172613779529, 0.14702439172376786, 7),\n",
       "   'ssr_ftest': (1.41369811415035, 0.20305439692702468, 162.0, 7)},\n",
       "  [<statsmodels.regression.linear_model.RegressionResultsWrapper at 0x114c64c18>,\n",
       "   <statsmodels.regression.linear_model.RegressionResultsWrapper at 0x114c64d30>,\n",
       "   array([[ 0.,  0.,  0.,  0.,  0.,  0.,  0.,  1.,  0.,  0.,  0.,  0.,  0.,\n",
       "            0.,  0.],\n",
       "          [ 0.,  0.,  0.,  0.,  0.,  0.,  0.,  0.,  1.,  0.,  0.,  0.,  0.,\n",
       "            0.,  0.],\n",
       "          [ 0.,  0.,  0.,  0.,  0.,  0.,  0.,  0.,  0.,  1.,  0.,  0.,  0.,\n",
       "            0.,  0.],\n",
       "          [ 0.,  0.,  0.,  0.,  0.,  0.,  0.,  0.,  0.,  0.,  1.,  0.,  0.,\n",
       "            0.,  0.],\n",
       "          [ 0.,  0.,  0.,  0.,  0.,  0.,  0.,  0.,  0.,  0.,  0.,  1.,  0.,\n",
       "            0.,  0.],\n",
       "          [ 0.,  0.,  0.,  0.,  0.,  0.,  0.,  0.,  0.,  0.,  0.,  0.,  1.,\n",
       "            0.,  0.],\n",
       "          [ 0.,  0.,  0.,  0.,  0.,  0.,  0.,  0.,  0.,  0.,  0.,  0.,  0.,\n",
       "            1.,  0.]])])}"
      ]
     },
     "execution_count": 16,
     "metadata": {},
     "output_type": "execute_result"
    }
   ],
   "source": [
    "grangercausalitytests(x, maxlag=7)"
   ]
  },
  {
   "cell_type": "code",
   "execution_count": 17,
   "metadata": {
    "collapsed": true
   },
   "outputs": [],
   "source": [
    "x = np.asarray([approvals_array, truncated_df[\"Trust Z-Score\"]]).T\n",
    "grangercausalitytests(x, maxlag=7)"
   ]
  },
  {
   "cell_type": "code",
   "execution_count": null,
   "metadata": {
    "collapsed": true
   },
   "outputs": [],
   "source": []
  }
 ],
 "metadata": {
  "kernelspec": {
   "display_name": "Python 3",
   "language": "python",
   "name": "python3"
  },
  "language_info": {
   "codemirror_mode": {
    "name": "ipython",
    "version": 3
   },
   "file_extension": ".py",
   "mimetype": "text/x-python",
   "name": "python",
   "nbconvert_exporter": "python",
   "pygments_lexer": "ipython3",
   "version": "3.6.9"
  }
 },
 "nbformat": 4,
 "nbformat_minor": 2
}
